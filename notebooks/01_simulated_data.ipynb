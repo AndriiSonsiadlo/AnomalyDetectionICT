{
 "cells": [
  {
   "cell_type": "markdown",
   "id": "51004f7d",
   "metadata": {},
   "source": [
    "# Metody detekcji anomalii - laboratorium\n",
    "\n",
    "* W pierwszej części laboratorium poznamy metody wyznaczania anomalii w danych (anomaly detection) oraz techniki badania czy nowe dane pochodzą ze znanego rozkładu (novelty/out-of-distribution (OOD) detection). \n",
    "\n",
    "* W drugiej części zastosujemy te techniki do reprezentacji generowanych przez głębokie sieci neuronowe. \n",
    "\n"
   ]
  },
  {
   "cell_type": "markdown",
   "id": "6e15bd17",
   "metadata": {},
   "source": [
    "## Zadanie\n",
    "\n",
    "Zadanie polega na zbadaniu różnych metod wykrywania anomalii - zilustrowanych w tej instrukcji (notebooku) do wykrywania anomalii w rzeczywistych zbiorach danych. \n",
    "\n",
    "Przykładową analizę dla danych rzeczywistych pokazujemy w notebooku **02_real_data.ipynb**.\n",
    "\n",
    "Przebieg zadania:\n",
    "\n",
    "**1. Wybieramy 3 zbiory danych** z repozytorium na stronie http://odds.cs.stonybrook.edu/. Wybieramy zbiory o różnych charakterystykach (wymiarowość, liczba outlierów).\n",
    "\n",
    "**2. Dla każdego zbioru** badamy skuteczność wykrywania anomalii za pomocą 3 metod - np. podanych w tej instrukcji, można też użyć inne metody (np. kNN). Staramy się dostroić parametry detektora anomalii tak żeby uzyskać wysoką skuteczność metody. \n",
    "\n",
    "**3. Opracowujemy raport z badań** - powinien zawierać miary skuteczności każdej badanej metody (ROC, AUC, FPR, TPR) oraz wpływ parametrów, które poddawaliśmy strojeniu. \n"
   ]
  },
  {
   "cell_type": "markdown",
   "id": "695bb949",
   "metadata": {},
   "source": [
    "## Badamy metody wyznaczania *outlierness scores* na danych symulacyjnych\n",
    "\n",
    "LOF \\\n",
    "odległość Mahalanobisa \\\n",
    "IRW depth \\\n",
    "isolation forest"
   ]
  },
  {
   "cell_type": "code",
   "execution_count": 1,
   "id": "57bc4b73",
   "metadata": {},
   "outputs": [],
   "source": [
    "from matplotlib import pyplot as plt\n",
    "import numpy as np\n",
    "from numpy.random import default_rng\n",
    "import time\n",
    "import math\n"
   ]
  },
  {
   "cell_type": "code",
   "execution_count": 2,
   "id": "f2ef605a",
   "metadata": {},
   "outputs": [],
   "source": [
    "# generujemy dane MVN - dane znane (in-distribution, ID) oraz out-of-distribution (OOD) \n",
    "\n",
    "rng = default_rng()\n",
    "\n",
    "dim = 10\n",
    "n = 500\n",
    "mi = np.zeros(dim)\n",
    "cov = np.identity(dim)\n",
    "\n",
    "X_train = rng.multivariate_normal(mi, cov, n)\n",
    "X_test = rng.multivariate_normal(mi, cov, n)\n",
    "\n",
    "# OOD\n",
    "delta = 10\n",
    "mi2 = np.full(dim, delta / math.sqrt(dim))\n",
    "X_ood = rng.multivariate_normal(mi2, cov, n)\n"
   ]
  },
  {
   "cell_type": "code",
   "execution_count": null,
   "outputs": [],
   "source": [],
   "metadata": {
    "collapsed": false
   }
  },
  {
   "cell_type": "markdown",
   "id": "55aed9b6",
   "metadata": {},
   "source": [
    "### IRW - Integrated Rank-Weighted depth\n",
    "\n",
    "    based on NIPS2022 paper P.Colombo et al., Beyond Mahalanobis-Based Scores for Textual OOD Detection"
   ]
  },
  {
   "cell_type": "code",
   "execution_count": 5,
   "id": "04c18aa1",
   "metadata": {},
   "outputs": [
    {
     "name": "stdout",
     "output_type": "stream",
     "text": [
      "fitted IRWdepth model with 1000 projections in 500 dimensions\n",
      "--- 24.308890342712402 seconds ---\n",
      "0.250002872\n",
      "0.24839421199999998\n"
     ]
    },
    {
     "data": {
      "text/plain": "<Figure size 600x400 with 1 Axes>",
      "image/png": "[encoded data removed]"
     },
     "metadata": {},
     "output_type": "display_data"
    }
   ],
   "source": [
    "# IRW\n",
    "\n",
    "from IRW_score import IRWdepth\n",
    "\n",
    "model = IRWdepth()\n",
    "nproj = 1000\n",
    "model.fit(X_train, nproj)\n",
    "\n",
    "start_time = time.time()\n",
    "train_scores = [model.score(row) for row in X_train]\n",
    "test_scores = [model.score(row) for row in X_test]\n",
    "ood_scores = [model.score(row) for row in X_ood]\n",
    "print(\"--- %s seconds ---\" % (time.time() - start_time))\n",
    "\n",
    "\n",
    "if 1:\n",
    "    print(np.mean(train_scores))\n",
    "    print(np.mean(test_scores)) \n",
    "\n",
    "\n",
    "# boxplot\n",
    "fig, ax1 = plt.subplots(figsize=(6, 4), constrained_layout=True)\n",
    "\n",
    "labels = ['train', 'test', 'ood']\n",
    "#ax1.set_ylim([40, 65])\n",
    "ax1.boxplot([train_scores, test_scores, ood_scores], labels=labels)\n",
    "ax1.grid()\n",
    "\n",
    "plt.show()"
   ]
  },
  {
   "cell_type": "markdown",
   "id": "e5d39496",
   "metadata": {},
   "source": [
    "### LOF"
   ]
  },
  {
   "cell_type": "code",
   "execution_count": 4,
   "id": "f43b05c5",
   "metadata": {},
   "outputs": [
    {
     "name": "stdout",
     "output_type": "stream",
     "text": [
      "-1.056396264275033\n",
      "-1.0531641283601816\n",
      "-2.7949909488421807\n"
     ]
    },
    {
     "data": {
      "image/png": "[encoded data removed]",
      "text/plain": [
       "<Figure size 432x288 with 1 Axes>"
      ]
     },
     "metadata": {
      "needs_background": "light"
     },
     "output_type": "display_data"
    }
   ],
   "source": [
    "from sklearn.neighbors import LocalOutlierFactor\n",
    "\n",
    "model = LocalOutlierFactor(n_neighbors=35, novelty=True)\n",
    "\n",
    "model.fit(X_train)\n",
    "\n",
    "train_scores = model.score_samples(X_train)\n",
    "test_scores = model.score_samples(X_test)\n",
    "ood_scores = model.score_samples(X_ood)\n",
    "\n",
    "\n",
    "if 1:\n",
    "    print(np.mean(train_scores))\n",
    "    print(np.mean(test_scores))\n",
    "    print(np.mean(ood_scores))\n",
    "\n",
    "\n",
    "# boxplot\n",
    "fig, ax1 = plt.subplots(figsize=(6, 4), constrained_layout=True)\n",
    "\n",
    "labels = ['train', 'test', 'ood']\n",
    "#ax1.set_ylim([40, 65])\n",
    "ax1.boxplot([train_scores, test_scores, ood_scores], labels=labels)\n",
    "ax1.grid()\n",
    "\n",
    "plt.show()"
   ]
  },
  {
   "cell_type": "markdown",
   "id": "658a969f",
   "metadata": {},
   "source": [
    "### Parametric model - assume MVN data\n",
    "    outlierness score - based on Mahalanobis distance"
   ]
  },
  {
   "cell_type": "code",
   "execution_count": 5,
   "id": "ae6400b4",
   "metadata": {},
   "outputs": [
    {
     "name": "stdout",
     "output_type": "stream",
     "text": [
      "-10.702917977420062\n",
      "-10.573437036521069\n",
      "-117.48444728836185\n"
     ]
    },
    {
     "data": {
      "image/png": "[encoded data removed]",
      "text/plain": [
       "<Figure size 432x288 with 1 Axes>"
      ]
     },
     "metadata": {
      "needs_background": "light"
     },
     "output_type": "display_data"
    }
   ],
   "source": [
    "from sklearn.covariance import EllipticEnvelope\n",
    "\n",
    "model = EllipticEnvelope(contamination=0.01, random_state=42)\n",
    "\n",
    "model.fit(X_train)\n",
    "\n",
    "train_scores = model.score_samples(X_train)\n",
    "test_scores = model.score_samples(X_test)\n",
    "ood_scores = model.score_samples(X_ood)\n",
    "\n",
    "\n",
    "if 1:\n",
    "    print(np.mean(train_scores))\n",
    "    print(np.mean(test_scores))\n",
    "    print(np.mean(ood_scores))\n",
    "\n",
    "\n",
    "# boxplot\n",
    "fig, ax1 = plt.subplots(figsize=(6, 4), constrained_layout=True)\n",
    "\n",
    "labels = ['train', 'test', 'ood']\n",
    "#ax1.set_ylim([40, 65])\n",
    "ax1.boxplot([train_scores, test_scores, ood_scores], labels=labels)\n",
    "ax1.grid()\n",
    "\n",
    "plt.show()\n",
    "## "
   ]
  },
  {
   "cell_type": "code",
   "execution_count": 6,
   "id": "682d685c",
   "metadata": {},
   "outputs": [
    {
     "name": "stdout",
     "output_type": "stream",
     "text": [
      "(500, 10)\n",
      "(500, 10)\n",
      "(1000, 10)\n"
     ]
    },
    {
     "data": {
      "image/png": "[encoded data removed]",
      "text/plain": [
       "<Figure size 432x288 with 1 Axes>"
      ]
     },
     "metadata": {
      "needs_background": "light"
     },
     "output_type": "display_data"
    }
   ],
   "source": [
    "# ROC curve\n",
    "\n",
    "print(X_test.shape)\n",
    "print(X_ood.shape)\n",
    "XX = np.concatenate((X_test,X_ood), axis=0)\n",
    "print(XX.shape)\n",
    "\n",
    "yy = [0]*X_test.shape[0] + [1]*X_ood.shape[0]      # 0 - ID, 1 - OOD\n",
    "\n",
    "\n",
    "import math\n",
    "import matplotlib.pyplot as plt\n",
    "from sklearn.metrics import RocCurveDisplay\n",
    "\n",
    "yy_score = -model.decision_function(XX)\n",
    "\n",
    "RocCurveDisplay.from_predictions(\n",
    "    yy,\n",
    "    yy_score,\n",
    "    name=\"Mahalanobis\",\n",
    "    color=\"darkorange\",\n",
    "    pos_label=1\n",
    ")\n",
    "plt.plot([0, 1], [0, 1], \"k--\")\n",
    "plt.axis(\"square\")\n",
    "plt.xlabel(\"False Positive Rate\")\n",
    "plt.ylabel(\"True Positive Rate\")\n",
    "plt.title(\"Mahalanobis, ROC\")\n",
    "plt.legend()\n",
    "plt.show()"
   ]
  },
  {
   "cell_type": "markdown",
   "id": "1b7d36ca",
   "metadata": {},
   "source": [
    "### Isolation forest"
   ]
  },
  {
   "cell_type": "code",
   "execution_count": 7,
   "id": "382ed6cf",
   "metadata": {},
   "outputs": [
    {
     "name": "stdout",
     "output_type": "stream",
     "text": [
      "-0.4434228430197747\n",
      "-0.4418592051729721\n",
      "-0.7074279210649939\n"
     ]
    },
    {
     "data": {
      "image/png": "[encoded data removed]",
      "text/plain": [
       "<Figure size 432x288 with 1 Axes>"
      ]
     },
     "metadata": {
      "needs_background": "light"
     },
     "output_type": "display_data"
    }
   ],
   "source": [
    "from sklearn.ensemble import IsolationForest\n",
    "\n",
    "model = IsolationForest(n_estimators=100, random_state=42)\n",
    "\n",
    "model.fit(X_train)\n",
    "\n",
    "train_scores = model.score_samples(X_train)\n",
    "test_scores = model.score_samples(X_test)\n",
    "ood_scores = model.score_samples(X_ood)\n",
    "\n",
    "\n",
    "if 1:\n",
    "    print(np.mean(train_scores))\n",
    "    print(np.mean(test_scores))\n",
    "    print(np.mean(ood_scores))\n",
    "\n",
    "\n",
    "# boxplot\n",
    "fig, ax1 = plt.subplots(figsize=(6, 4), constrained_layout=True)\n",
    "\n",
    "labels = ['train', 'test', 'ood']\n",
    "#ax1.set_ylim([40, 65])\n",
    "ax1.boxplot([train_scores, test_scores, ood_scores], labels=labels)\n",
    "ax1.grid()\n",
    "\n",
    "plt.show()\n"
   ]
  },
  {
   "cell_type": "code",
   "execution_count": 8,
   "id": "ee312656",
   "metadata": {},
   "outputs": [],
   "source": [
    "#print(model.predict(X_test))\n",
    "#print(model.predict(X_ood))"
   ]
  },
  {
   "cell_type": "markdown",
   "id": "719633eb",
   "metadata": {},
   "source": [
    "## Problem wykrywania danych OOD w wysokich wymiarach"
   ]
  },
  {
   "cell_type": "code",
   "execution_count": 9,
   "id": "bb24d1d3",
   "metadata": {},
   "outputs": [],
   "source": [
    "# generujemy dane MVN - dane znane (in-distribution, ID) oraz out-of-distribution (OOD) \n",
    "\n",
    "rng = default_rng()\n",
    "\n",
    "dim = 500\n",
    "n = 2000\n",
    "mi = np.full(dim, 0)\n",
    "cov = np.identity(dim)\n",
    "\n",
    "X_train = rng.multivariate_normal(mi, cov, n)\n",
    "X_test = rng.multivariate_normal(mi, cov, n)\n",
    "\n",
    "# OOD\n",
    "delta = 10\n",
    "mi2 = np.full(dim, delta / math.sqrt(dim))\n",
    "X_ood = rng.multivariate_normal(mi2, cov, n) \n"
   ]
  },
  {
   "cell_type": "code",
   "execution_count": 10,
   "id": "f576bda6",
   "metadata": {
    "collapsed": true,
    "jupyter": {
     "outputs_hidden": true
    },
    "tags": []
   },
   "outputs": [
    {
     "name": "stderr",
     "output_type": "stream",
     "text": [
      "/home/hmaciej/anaconda3/lib/python3.9/site-packages/sklearn/covariance/_robust_covariance.py:183: RuntimeWarning: Determinant has increased; this should not happen: log(det) > log(previous_det) (-10147.455644110767025 > -10159.444369533752251). You may want to try with a higher value of support_fraction (current value: 0.628).\n",
      "  warnings.warn(\n",
      "/home/hmaciej/anaconda3/lib/python3.9/site-packages/sklearn/covariance/_robust_covariance.py:183: RuntimeWarning: Determinant has increased; this should not happen: log(det) > log(previous_det) (-10150.097230569625026 > -10159.327859189123046). You may want to try with a higher value of support_fraction (current value: 0.628).\n",
      "  warnings.warn(\n",
      "/home/hmaciej/anaconda3/lib/python3.9/site-packages/sklearn/covariance/_robust_covariance.py:183: RuntimeWarning: Determinant has increased; this should not happen: log(det) > log(previous_det) (-10151.400985457115894 > -10151.794243432801522). You may want to try with a higher value of support_fraction (current value: 0.628).\n",
      "  warnings.warn(\n",
      "/home/hmaciej/anaconda3/lib/python3.9/site-packages/sklearn/covariance/_robust_covariance.py:183: RuntimeWarning: Determinant has increased; this should not happen: log(det) > log(previous_det) (-10149.338377176438371 > -10157.507789629549734). You may want to try with a higher value of support_fraction (current value: 0.628).\n",
      "  warnings.warn(\n",
      "/home/hmaciej/anaconda3/lib/python3.9/site-packages/sklearn/covariance/_robust_covariance.py:183: RuntimeWarning: Determinant has increased; this should not happen: log(det) > log(previous_det) (-10151.105285904952325 > -10153.503380353871762). You may want to try with a higher value of support_fraction (current value: 0.628).\n",
      "  warnings.warn(\n",
      "/home/hmaciej/anaconda3/lib/python3.9/site-packages/sklearn/covariance/_robust_covariance.py:183: RuntimeWarning: Determinant has increased; this should not happen: log(det) > log(previous_det) (-10150.818490420377202 > -10152.048584585374556). You may want to try with a higher value of support_fraction (current value: 0.628).\n",
      "  warnings.warn(\n",
      "/home/hmaciej/anaconda3/lib/python3.9/site-packages/sklearn/covariance/_robust_covariance.py:183: RuntimeWarning: Determinant has increased; this should not happen: log(det) > log(previous_det) (-10151.878947164967030 > -10155.973390884360924). You may want to try with a higher value of support_fraction (current value: 0.628).\n",
      "  warnings.warn(\n",
      "/home/hmaciej/anaconda3/lib/python3.9/site-packages/sklearn/covariance/_robust_covariance.py:183: RuntimeWarning: Determinant has increased; this should not happen: log(det) > log(previous_det) (-10151.411851436494544 > -10160.690552454792851). You may want to try with a higher value of support_fraction (current value: 0.628).\n",
      "  warnings.warn(\n",
      "/home/hmaciej/anaconda3/lib/python3.9/site-packages/sklearn/covariance/_robust_covariance.py:183: RuntimeWarning: Determinant has increased; this should not happen: log(det) > log(previous_det) (-10151.203173102905566 > -10155.097892491983657). You may want to try with a higher value of support_fraction (current value: 0.628).\n",
      "  warnings.warn(\n",
      "/home/hmaciej/anaconda3/lib/python3.9/site-packages/sklearn/covariance/_robust_covariance.py:183: RuntimeWarning: Determinant has increased; this should not happen: log(det) > log(previous_det) (-10153.893514168279580 > -10157.122015229550016). You may want to try with a higher value of support_fraction (current value: 0.628).\n",
      "  warnings.warn(\n",
      "/home/hmaciej/anaconda3/lib/python3.9/site-packages/sklearn/covariance/_robust_covariance.py:183: RuntimeWarning: Determinant has increased; this should not happen: log(det) > log(previous_det) (-10149.470062210159085 > -10156.243112020008994). You may want to try with a higher value of support_fraction (current value: 0.628).\n",
      "  warnings.warn(\n",
      "/home/hmaciej/anaconda3/lib/python3.9/site-packages/sklearn/covariance/_robust_covariance.py:183: RuntimeWarning: Determinant has increased; this should not happen: log(det) > log(previous_det) (-10148.543375598374041 > -10156.826970045553026). You may want to try with a higher value of support_fraction (current value: 0.628).\n",
      "  warnings.warn(\n",
      "/home/hmaciej/anaconda3/lib/python3.9/site-packages/sklearn/covariance/_robust_covariance.py:183: RuntimeWarning: Determinant has increased; this should not happen: log(det) > log(previous_det) (-10149.149963323561678 > -10150.090598972990847). You may want to try with a higher value of support_fraction (current value: 0.628).\n",
      "  warnings.warn(\n",
      "/home/hmaciej/anaconda3/lib/python3.9/site-packages/sklearn/covariance/_robust_covariance.py:183: RuntimeWarning: Determinant has increased; this should not happen: log(det) > log(previous_det) (-10144.759321787809313 > -10154.166228270814827). You may want to try with a higher value of support_fraction (current value: 0.628).\n",
      "  warnings.warn(\n",
      "/home/hmaciej/anaconda3/lib/python3.9/site-packages/sklearn/covariance/_robust_covariance.py:183: RuntimeWarning: Determinant has increased; this should not happen: log(det) > log(previous_det) (-10153.586116594646228 > -10159.190613417918939). You may want to try with a higher value of support_fraction (current value: 0.628).\n",
      "  warnings.warn(\n",
      "/home/hmaciej/anaconda3/lib/python3.9/site-packages/sklearn/covariance/_robust_covariance.py:183: RuntimeWarning: Determinant has increased; this should not happen: log(det) > log(previous_det) (-10146.296118283993565 > -10152.227441165528944). You may want to try with a higher value of support_fraction (current value: 0.628).\n",
      "  warnings.warn(\n",
      "/home/hmaciej/anaconda3/lib/python3.9/site-packages/sklearn/covariance/_robust_covariance.py:183: RuntimeWarning: Determinant has increased; this should not happen: log(det) > log(previous_det) (-10152.199332957268780 > -10155.199641954066465). You may want to try with a higher value of support_fraction (current value: 0.628).\n",
      "  warnings.warn(\n",
      "/home/hmaciej/anaconda3/lib/python3.9/site-packages/sklearn/covariance/_robust_covariance.py:183: RuntimeWarning: Determinant has increased; this should not happen: log(det) > log(previous_det) (-10150.569148485039477 > -10157.001139003177741). You may want to try with a higher value of support_fraction (current value: 0.628).\n",
      "  warnings.warn(\n",
      "/home/hmaciej/anaconda3/lib/python3.9/site-packages/sklearn/covariance/_robust_covariance.py:183: RuntimeWarning: Determinant has increased; this should not happen: log(det) > log(previous_det) (-10149.523922553236844 > -10156.903210255184604). You may want to try with a higher value of support_fraction (current value: 0.628).\n",
      "  warnings.warn(\n",
      "/home/hmaciej/anaconda3/lib/python3.9/site-packages/sklearn/covariance/_robust_covariance.py:183: RuntimeWarning: Determinant has increased; this should not happen: log(det) > log(previous_det) (-10145.363902233384579 > -10148.850934548932855). You may want to try with a higher value of support_fraction (current value: 0.628).\n",
      "  warnings.warn(\n",
      "/home/hmaciej/anaconda3/lib/python3.9/site-packages/sklearn/covariance/_robust_covariance.py:183: RuntimeWarning: Determinant has increased; this should not happen: log(det) > log(previous_det) (-10153.018470963135769 > -10153.252096518859616). You may want to try with a higher value of support_fraction (current value: 0.628).\n",
      "  warnings.warn(\n",
      "/home/hmaciej/anaconda3/lib/python3.9/site-packages/sklearn/covariance/_robust_covariance.py:183: RuntimeWarning: Determinant has increased; this should not happen: log(det) > log(previous_det) (-10152.639239406849811 > -10156.165746292395852). You may want to try with a higher value of support_fraction (current value: 0.628).\n",
      "  warnings.warn(\n",
      "/home/hmaciej/anaconda3/lib/python3.9/site-packages/sklearn/covariance/_robust_covariance.py:183: RuntimeWarning: Determinant has increased; this should not happen: log(det) > log(previous_det) (-10150.344478743536456 > -10155.655124587996397). You may want to try with a higher value of support_fraction (current value: 0.628).\n",
      "  warnings.warn(\n",
      "/home/hmaciej/anaconda3/lib/python3.9/site-packages/sklearn/covariance/_robust_covariance.py:183: RuntimeWarning: Determinant has increased; this should not happen: log(det) > log(previous_det) (-10147.837398586163545 > -10152.093243635523322). You may want to try with a higher value of support_fraction (current value: 0.628).\n",
      "  warnings.warn(\n",
      "/home/hmaciej/anaconda3/lib/python3.9/site-packages/sklearn/covariance/_robust_covariance.py:183: RuntimeWarning: Determinant has increased; this should not happen: log(det) > log(previous_det) (-10155.191204189110067 > -10158.319672228990385). You may want to try with a higher value of support_fraction (current value: 0.628).\n",
      "  warnings.warn(\n",
      "/home/hmaciej/anaconda3/lib/python3.9/site-packages/sklearn/covariance/_robust_covariance.py:183: RuntimeWarning: Determinant has increased; this should not happen: log(det) > log(previous_det) (-10153.078909042806117 > -10156.846073419063032). You may want to try with a higher value of support_fraction (current value: 0.628).\n",
      "  warnings.warn(\n",
      "/home/hmaciej/anaconda3/lib/python3.9/site-packages/sklearn/covariance/_robust_covariance.py:183: RuntimeWarning: Determinant has increased; this should not happen: log(det) > log(previous_det) (-10149.006934213271961 > -10156.878022643815711). You may want to try with a higher value of support_fraction (current value: 0.628).\n",
      "  warnings.warn(\n",
      "/home/hmaciej/anaconda3/lib/python3.9/site-packages/sklearn/covariance/_robust_covariance.py:183: RuntimeWarning: Determinant has increased; this should not happen: log(det) > log(previous_det) (-10151.118920359360345 > -10152.447622584613782). You may want to try with a higher value of support_fraction (current value: 0.628).\n",
      "  warnings.warn(\n",
      "/home/hmaciej/anaconda3/lib/python3.9/site-packages/sklearn/covariance/_robust_covariance.py:183: RuntimeWarning: Determinant has increased; this should not happen: log(det) > log(previous_det) (-10149.997141296229529 > -10153.174411930192946). You may want to try with a higher value of support_fraction (current value: 0.628).\n",
      "  warnings.warn(\n",
      "/home/hmaciej/anaconda3/lib/python3.9/site-packages/sklearn/covariance/_robust_covariance.py:183: RuntimeWarning: Determinant has increased; this should not happen: log(det) > log(previous_det) (-10149.126789944129996 > -10155.571189575728567). You may want to try with a higher value of support_fraction (current value: 0.628).\n",
      "  warnings.warn(\n",
      "/home/hmaciej/anaconda3/lib/python3.9/site-packages/sklearn/covariance/_robust_covariance.py:183: RuntimeWarning: Determinant has increased; this should not happen: log(det) > log(previous_det) (-10151.739512205353094 > -10153.591513420235060). You may want to try with a higher value of support_fraction (current value: 0.628).\n",
      "  warnings.warn(\n",
      "/home/hmaciej/anaconda3/lib/python3.9/site-packages/sklearn/covariance/_robust_covariance.py:183: RuntimeWarning: Determinant has increased; this should not happen: log(det) > log(previous_det) (-10152.984159747344165 > -10155.326914144510738). You may want to try with a higher value of support_fraction (current value: 0.628).\n",
      "  warnings.warn(\n",
      "/home/hmaciej/anaconda3/lib/python3.9/site-packages/sklearn/covariance/_robust_covariance.py:183: RuntimeWarning: Determinant has increased; this should not happen: log(det) > log(previous_det) (-10148.895857034220171 > -10152.384093506705540). You may want to try with a higher value of support_fraction (current value: 0.628).\n",
      "  warnings.warn(\n",
      "/home/hmaciej/anaconda3/lib/python3.9/site-packages/sklearn/covariance/_robust_covariance.py:183: RuntimeWarning: Determinant has increased; this should not happen: log(det) > log(previous_det) (-10148.345784748658843 > -10151.002312272486961). You may want to try with a higher value of support_fraction (current value: 0.628).\n",
      "  warnings.warn(\n",
      "/home/hmaciej/anaconda3/lib/python3.9/site-packages/sklearn/covariance/_robust_covariance.py:183: RuntimeWarning: Determinant has increased; this should not happen: log(det) > log(previous_det) (-10149.847265048156260 > -10151.314208311734546). You may want to try with a higher value of support_fraction (current value: 0.628).\n",
      "  warnings.warn(\n",
      "/home/hmaciej/anaconda3/lib/python3.9/site-packages/sklearn/covariance/_robust_covariance.py:183: RuntimeWarning: Determinant has increased; this should not happen: log(det) > log(previous_det) (-10150.266166212410099 > -10153.215576707618311). You may want to try with a higher value of support_fraction (current value: 0.628).\n",
      "  warnings.warn(\n",
      "/home/hmaciej/anaconda3/lib/python3.9/site-packages/sklearn/covariance/_robust_covariance.py:183: RuntimeWarning: Determinant has increased; this should not happen: log(det) > log(previous_det) (-10151.909418525876390 > -10154.184994060165991). You may want to try with a higher value of support_fraction (current value: 0.628).\n",
      "  warnings.warn(\n",
      "/home/hmaciej/anaconda3/lib/python3.9/site-packages/sklearn/covariance/_robust_covariance.py:183: RuntimeWarning: Determinant has increased; this should not happen: log(det) > log(previous_det) (-10147.343561541591043 > -10158.362255601930883). You may want to try with a higher value of support_fraction (current value: 0.628).\n",
      "  warnings.warn(\n",
      "/home/hmaciej/anaconda3/lib/python3.9/site-packages/sklearn/covariance/_robust_covariance.py:183: RuntimeWarning: Determinant has increased; this should not happen: log(det) > log(previous_det) (-10150.497849734632837 > -10155.099515764013631). You may want to try with a higher value of support_fraction (current value: 0.628).\n",
      "  warnings.warn(\n",
      "/home/hmaciej/anaconda3/lib/python3.9/site-packages/sklearn/covariance/_robust_covariance.py:183: RuntimeWarning: Determinant has increased; this should not happen: log(det) > log(previous_det) (-10148.936329766494964 > -10153.011199781216419). You may want to try with a higher value of support_fraction (current value: 0.628).\n",
      "  warnings.warn(\n",
      "/home/hmaciej/anaconda3/lib/python3.9/site-packages/sklearn/covariance/_robust_covariance.py:183: RuntimeWarning: Determinant has increased; this should not happen: log(det) > log(previous_det) (-10148.676865517687474 > -10150.813990130123784). You may want to try with a higher value of support_fraction (current value: 0.628).\n",
      "  warnings.warn(\n",
      "/home/hmaciej/anaconda3/lib/python3.9/site-packages/sklearn/covariance/_robust_covariance.py:183: RuntimeWarning: Determinant has increased; this should not happen: log(det) > log(previous_det) (-10152.029820754107277 > -10155.768897057694630). You may want to try with a higher value of support_fraction (current value: 0.628).\n",
      "  warnings.warn(\n",
      "/home/hmaciej/anaconda3/lib/python3.9/site-packages/sklearn/covariance/_robust_covariance.py:183: RuntimeWarning: Determinant has increased; this should not happen: log(det) > log(previous_det) (-10150.922546611443977 > -10153.037051167078971). You may want to try with a higher value of support_fraction (current value: 0.628).\n",
      "  warnings.warn(\n",
      "/home/hmaciej/anaconda3/lib/python3.9/site-packages/sklearn/covariance/_robust_covariance.py:183: RuntimeWarning: Determinant has increased; this should not happen: log(det) > log(previous_det) (-10147.730323317889997 > -10157.408609941687246). You may want to try with a higher value of support_fraction (current value: 0.628).\n",
      "  warnings.warn(\n",
      "/home/hmaciej/anaconda3/lib/python3.9/site-packages/sklearn/covariance/_robust_covariance.py:183: RuntimeWarning: Determinant has increased; this should not happen: log(det) > log(previous_det) (-10152.675331290396571 > -10154.425416745332768). You may want to try with a higher value of support_fraction (current value: 0.628).\n",
      "  warnings.warn(\n",
      "/home/hmaciej/anaconda3/lib/python3.9/site-packages/sklearn/covariance/_robust_covariance.py:183: RuntimeWarning: Determinant has increased; this should not happen: log(det) > log(previous_det) (-10152.162545507844698 > -10158.656564808346957). You may want to try with a higher value of support_fraction (current value: 0.628).\n",
      "  warnings.warn(\n",
      "/home/hmaciej/anaconda3/lib/python3.9/site-packages/sklearn/covariance/_robust_covariance.py:183: RuntimeWarning: Determinant has increased; this should not happen: log(det) > log(previous_det) (-10152.972388753329142 > -10158.201315097458064). You may want to try with a higher value of support_fraction (current value: 0.628).\n",
      "  warnings.warn(\n",
      "/home/hmaciej/anaconda3/lib/python3.9/site-packages/sklearn/covariance/_robust_covariance.py:183: RuntimeWarning: Determinant has increased; this should not happen: log(det) > log(previous_det) (-10150.368999760523366 > -10152.178021839599751). You may want to try with a higher value of support_fraction (current value: 0.628).\n",
      "  warnings.warn(\n",
      "/home/hmaciej/anaconda3/lib/python3.9/site-packages/sklearn/covariance/_robust_covariance.py:183: RuntimeWarning: Determinant has increased; this should not happen: log(det) > log(previous_det) (-10154.071951052934310 > -10158.319419588595338). You may want to try with a higher value of support_fraction (current value: 0.628).\n",
      "  warnings.warn(\n",
      "/home/hmaciej/anaconda3/lib/python3.9/site-packages/sklearn/covariance/_robust_covariance.py:183: RuntimeWarning: Determinant has increased; this should not happen: log(det) > log(previous_det) (-10149.188309027422292 > -10154.826160077251188). You may want to try with a higher value of support_fraction (current value: 0.628).\n",
      "  warnings.warn(\n",
      "/home/hmaciej/anaconda3/lib/python3.9/site-packages/sklearn/covariance/_robust_covariance.py:183: RuntimeWarning: Determinant has increased; this should not happen: log(det) > log(previous_det) (-10150.572640183640033 > -10158.365049641333826). You may want to try with a higher value of support_fraction (current value: 0.628).\n",
      "  warnings.warn(\n",
      "/home/hmaciej/anaconda3/lib/python3.9/site-packages/sklearn/covariance/_robust_covariance.py:183: RuntimeWarning: Determinant has increased; this should not happen: log(det) > log(previous_det) (-10152.753998463487733 > -10156.545703084599154). You may want to try with a higher value of support_fraction (current value: 0.628).\n",
      "  warnings.warn(\n",
      "/home/hmaciej/anaconda3/lib/python3.9/site-packages/sklearn/covariance/_robust_covariance.py:183: RuntimeWarning: Determinant has increased; this should not happen: log(det) > log(previous_det) (-10155.252417326943032 > -10161.383459748078167). You may want to try with a higher value of support_fraction (current value: 0.628).\n",
      "  warnings.warn(\n",
      "/home/hmaciej/anaconda3/lib/python3.9/site-packages/sklearn/covariance/_robust_covariance.py:183: RuntimeWarning: Determinant has increased; this should not happen: log(det) > log(previous_det) (-10149.218472542801464 > -10150.738900053638645). You may want to try with a higher value of support_fraction (current value: 0.628).\n",
      "  warnings.warn(\n",
      "/home/hmaciej/anaconda3/lib/python3.9/site-packages/sklearn/covariance/_robust_covariance.py:183: RuntimeWarning: Determinant has increased; this should not happen: log(det) > log(previous_det) (-10143.949117288831985 > -10148.956748700755270). You may want to try with a higher value of support_fraction (current value: 0.628).\n",
      "  warnings.warn(\n",
      "/home/hmaciej/anaconda3/lib/python3.9/site-packages/sklearn/covariance/_robust_covariance.py:183: RuntimeWarning: Determinant has increased; this should not happen: log(det) > log(previous_det) (-10152.416561319858374 > -10158.098657454565910). You may want to try with a higher value of support_fraction (current value: 0.628).\n",
      "  warnings.warn(\n",
      "/home/hmaciej/anaconda3/lib/python3.9/site-packages/sklearn/covariance/_robust_covariance.py:183: RuntimeWarning: Determinant has increased; this should not happen: log(det) > log(previous_det) (-10149.671653587554829 > -10158.342191665051359). You may want to try with a higher value of support_fraction (current value: 0.628).\n",
      "  warnings.warn(\n",
      "/home/hmaciej/anaconda3/lib/python3.9/site-packages/sklearn/covariance/_robust_covariance.py:183: RuntimeWarning: Determinant has increased; this should not happen: log(det) > log(previous_det) (-10154.632652389855139 > -10159.387411991827321). You may want to try with a higher value of support_fraction (current value: 0.628).\n",
      "  warnings.warn(\n",
      "/home/hmaciej/anaconda3/lib/python3.9/site-packages/sklearn/covariance/_robust_covariance.py:183: RuntimeWarning: Determinant has increased; this should not happen: log(det) > log(previous_det) (-10157.634136450764345 > -10157.822733768884063). You may want to try with a higher value of support_fraction (current value: 0.628).\n",
      "  warnings.warn(\n",
      "/home/hmaciej/anaconda3/lib/python3.9/site-packages/sklearn/covariance/_robust_covariance.py:183: RuntimeWarning: Determinant has increased; this should not happen: log(det) > log(previous_det) (-10158.835692710255898 > -10159.627347438936340). You may want to try with a higher value of support_fraction (current value: 0.628).\n",
      "  warnings.warn(\n",
      "/home/hmaciej/anaconda3/lib/python3.9/site-packages/sklearn/covariance/_robust_covariance.py:183: RuntimeWarning: Determinant has increased; this should not happen: log(det) > log(previous_det) (-10153.538091351945695 > -10157.907014503971368). You may want to try with a higher value of support_fraction (current value: 0.628).\n",
      "  warnings.warn(\n",
      "/home/hmaciej/anaconda3/lib/python3.9/site-packages/sklearn/covariance/_robust_covariance.py:183: RuntimeWarning: Determinant has increased; this should not happen: log(det) > log(previous_det) (-10151.351019982235812 > -10155.415562643098383). You may want to try with a higher value of support_fraction (current value: 0.628).\n",
      "  warnings.warn(\n",
      "/home/hmaciej/anaconda3/lib/python3.9/site-packages/sklearn/covariance/_robust_covariance.py:183: RuntimeWarning: Determinant has increased; this should not happen: log(det) > log(previous_det) (-10150.064419289690704 > -10156.262471561247366). You may want to try with a higher value of support_fraction (current value: 0.628).\n",
      "  warnings.warn(\n",
      "/home/hmaciej/anaconda3/lib/python3.9/site-packages/sklearn/covariance/_robust_covariance.py:183: RuntimeWarning: Determinant has increased; this should not happen: log(det) > log(previous_det) (-10152.491733952721916 > -10157.348627784447672). You may want to try with a higher value of support_fraction (current value: 0.628).\n",
      "  warnings.warn(\n",
      "/home/hmaciej/anaconda3/lib/python3.9/site-packages/sklearn/covariance/_robust_covariance.py:183: RuntimeWarning: Determinant has increased; this should not happen: log(det) > log(previous_det) (-10152.715097925616647 > -10158.934931531690381). You may want to try with a higher value of support_fraction (current value: 0.628).\n",
      "  warnings.warn(\n",
      "/home/hmaciej/anaconda3/lib/python3.9/site-packages/sklearn/covariance/_robust_covariance.py:183: RuntimeWarning: Determinant has increased; this should not happen: log(det) > log(previous_det) (-10147.520697060941529 > -10153.062968437485324). You may want to try with a higher value of support_fraction (current value: 0.628).\n",
      "  warnings.warn(\n",
      "/home/hmaciej/anaconda3/lib/python3.9/site-packages/sklearn/covariance/_robust_covariance.py:183: RuntimeWarning: Determinant has increased; this should not happen: log(det) > log(previous_det) (-10152.204618802172263 > -10152.970127221520670). You may want to try with a higher value of support_fraction (current value: 0.628).\n",
      "  warnings.warn(\n",
      "/home/hmaciej/anaconda3/lib/python3.9/site-packages/sklearn/covariance/_robust_covariance.py:183: RuntimeWarning: Determinant has increased; this should not happen: log(det) > log(previous_det) (-10150.290919569510152 > -10154.252738759871136). You may want to try with a higher value of support_fraction (current value: 0.628).\n",
      "  warnings.warn(\n",
      "/home/hmaciej/anaconda3/lib/python3.9/site-packages/sklearn/covariance/_robust_covariance.py:183: RuntimeWarning: Determinant has increased; this should not happen: log(det) > log(previous_det) (-10146.496005611499641 > -10153.053029592714665). You may want to try with a higher value of support_fraction (current value: 0.628).\n",
      "  warnings.warn(\n",
      "/home/hmaciej/anaconda3/lib/python3.9/site-packages/sklearn/covariance/_robust_covariance.py:183: RuntimeWarning: Determinant has increased; this should not happen: log(det) > log(previous_det) (-10153.288482600690259 > -10154.126035125378621). You may want to try with a higher value of support_fraction (current value: 0.628).\n",
      "  warnings.warn(\n",
      "/home/hmaciej/anaconda3/lib/python3.9/site-packages/sklearn/covariance/_robust_covariance.py:183: RuntimeWarning: Determinant has increased; this should not happen: log(det) > log(previous_det) (-10149.704673865349832 > -10156.939475901095648). You may want to try with a higher value of support_fraction (current value: 0.628).\n",
      "  warnings.warn(\n",
      "/home/hmaciej/anaconda3/lib/python3.9/site-packages/sklearn/covariance/_robust_covariance.py:183: RuntimeWarning: Determinant has increased; this should not happen: log(det) > log(previous_det) (-10151.390674730768296 > -10157.845257123266492). You may want to try with a higher value of support_fraction (current value: 0.628).\n",
      "  warnings.warn(\n",
      "/home/hmaciej/anaconda3/lib/python3.9/site-packages/sklearn/covariance/_robust_covariance.py:183: RuntimeWarning: Determinant has increased; this should not happen: log(det) > log(previous_det) (-10151.660878548727851 > -10155.836181051659878). You may want to try with a higher value of support_fraction (current value: 0.628).\n",
      "  warnings.warn(\n",
      "/home/hmaciej/anaconda3/lib/python3.9/site-packages/sklearn/covariance/_robust_covariance.py:183: RuntimeWarning: Determinant has increased; this should not happen: log(det) > log(previous_det) (-10150.731656960922919 > -10151.759054928870682). You may want to try with a higher value of support_fraction (current value: 0.628).\n",
      "  warnings.warn(\n",
      "/home/hmaciej/anaconda3/lib/python3.9/site-packages/sklearn/covariance/_robust_covariance.py:183: RuntimeWarning: Determinant has increased; this should not happen: log(det) > log(previous_det) (-10152.931963034532600 > -10155.617082374115853). You may want to try with a higher value of support_fraction (current value: 0.628).\n",
      "  warnings.warn(\n",
      "/home/hmaciej/anaconda3/lib/python3.9/site-packages/sklearn/covariance/_robust_covariance.py:183: RuntimeWarning: Determinant has increased; this should not happen: log(det) > log(previous_det) (-10151.338733967635562 > -10157.769186358977095). You may want to try with a higher value of support_fraction (current value: 0.628).\n",
      "  warnings.warn(\n"
     ]
    },
    {
     "name": "stdout",
     "output_type": "stream",
     "text": [
      "-660.5878690082641\n",
      "-879.3441570777039\n",
      "-1065.2261733342796\n"
     ]
    },
    {
     "data": {
      "image/png": "[encoded data removed]",
      "text/plain": [
       "<Figure size 432x288 with 1 Axes>"
      ]
     },
     "metadata": {
      "needs_background": "light"
     },
     "output_type": "display_data"
    }
   ],
   "source": [
    "model = EllipticEnvelope(contamination=0.01, random_state=42)\n",
    "\n",
    "model.fit(X_train)\n",
    "\n",
    "train_scores = model.score_samples(X_train)\n",
    "test_scores = model.score_samples(X_test)\n",
    "ood_scores = model.score_samples(X_ood)\n",
    "\n",
    "\n",
    "if 1:\n",
    "    print(np.mean(train_scores))\n",
    "    print(np.mean(test_scores))\n",
    "    print(np.mean(ood_scores))\n",
    "\n",
    "\n",
    "# boxplot\n",
    "fig, ax1 = plt.subplots(figsize=(6, 4), constrained_layout=True)\n",
    "\n",
    "labels = ['train', 'test', 'ood']\n",
    "#ax1.set_ylim([40, 65])\n",
    "ax1.boxplot([train_scores, test_scores, ood_scores], labels=labels)\n",
    "ax1.grid()\n",
    "\n",
    "plt.show()\n"
   ]
  },
  {
   "cell_type": "code",
   "execution_count": 11,
   "id": "65859c57",
   "metadata": {},
   "outputs": [
    {
     "name": "stdout",
     "output_type": "stream",
     "text": [
      "(2000, 500)\n",
      "(2000, 500)\n",
      "(4000, 500)\n"
     ]
    }
   ],
   "source": [
    "print(X_test.shape)\n",
    "print(X_ood.shape)\n",
    "XX = np.concatenate((X_test,X_ood), axis=0)\n",
    "print(XX.shape)\n",
    "\n",
    "yy = [0]*X_test.shape[0] + [1]*X_ood.shape[0]      # 0 - ID, 1 - OOD\n"
   ]
  },
  {
   "cell_type": "code",
   "execution_count": 12,
   "id": "18c178ff",
   "metadata": {},
   "outputs": [
    {
     "data": {
      "image/png": "[encoded data removed]",
      "text/plain": [
       "<Figure size 432x288 with 1 Axes>"
      ]
     },
     "metadata": {
      "needs_background": "light"
     },
     "output_type": "display_data"
    }
   ],
   "source": [
    "import math\n",
    "import matplotlib.pyplot as plt\n",
    "from sklearn.metrics import RocCurveDisplay\n",
    "\n",
    "yy_score = -model.decision_function(XX)\n",
    "\n",
    "RocCurveDisplay.from_predictions(\n",
    "    yy,\n",
    "    yy_score,\n",
    "    name=\"Mahalanobis\",\n",
    "    color=\"darkorange\",\n",
    "    pos_label=1\n",
    ")\n",
    "plt.plot([0, 1], [0, 1], \"k--\")\n",
    "plt.axis(\"square\")\n",
    "plt.xlabel(\"False Positive Rate\")\n",
    "plt.ylabel(\"True Positive Rate\")\n",
    "plt.title(\"Mahalanobis, ROC\")\n",
    "plt.legend()\n",
    "plt.show()"
   ]
  },
  {
   "cell_type": "code",
   "execution_count": null,
   "id": "dc909e0c",
   "metadata": {},
   "outputs": [],
   "source": []
  }
 ],
 "metadata": {
  "kernelspec": {
   "display_name": "Python 3 (ipykernel)",
   "language": "python",
   "name": "python3"
  },
  "language_info": {
   "codemirror_mode": {
    "name": "ipython",
    "version": 3
   },
   "file_extension": ".py",
   "mimetype": "text/x-python",
   "name": "python",
   "nbconvert_exporter": "python",
   "pygments_lexer": "ipython3",
   "version": "3.9.7"
  }
 },
 "nbformat": 4,
 "nbformat_minor": 5
}
